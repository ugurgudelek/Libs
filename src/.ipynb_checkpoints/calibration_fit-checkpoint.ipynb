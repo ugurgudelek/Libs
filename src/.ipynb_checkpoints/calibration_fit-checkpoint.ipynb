{
 "cells": [
  {
   "cell_type": "code",
   "execution_count": 45,
   "metadata": {
    "collapsed": true
   },
   "outputs": [],
   "source": [
    "import pandas as pd\n",
    "import numpy as np\n",
    "import matplotlib.pyplot as plt\n",
    "import seaborn as sns\n",
    "import os\n",
    "%matplotlib inline"
   ]
  },
  {
   "cell_type": "code",
   "execution_count": 67,
   "metadata": {},
   "outputs": [],
   "source": [
    "file = open(u'../output/calibration/niğde.csv', 'rb')\n",
    "df = pd.read_csv(file, index_col=0)\n",
    "df['sample_id'] = list(range(1,df.shape[0]+1))\n",
    "\n",
    "N_values = pd.read_excel(open(u'../output/calibration/niğde.xlsx', 'rb'))['% Azot']\n",
    "df ['%N'] = N_values"
   ]
  },
  {
   "cell_type": "code",
   "execution_count": 58,
   "metadata": {
    "collapsed": true
   },
   "outputs": [],
   "source": [
    "class CalibrationColumn:\n",
    "    \"\"\"\n",
    "\n",
    "        Args:\n",
    "            colname(str):\n",
    "\n",
    "    \"\"\"\n",
    "    def __init__(self, colname):\n",
    "\n",
    "        parts = colname.split(' ')\n",
    "        self.raw_name = parts[0]\n",
    "        self.name = parts[0].lower()\n",
    "        self.id = int(parts[1])\n",
    "        self.nm = float(parts[-1])\n",
    "\n",
    "    def __str__(self):\n",
    "        return '{el} {id} @ {nm}'.format(el=self.raw_name,\n",
    "                                         id=self.id,\n",
    "                                         nm=self.nm)\n",
    "    \n",
    "    def __repr__(self):\n",
    "        return self.__str__()"
   ]
  },
  {
   "cell_type": "code",
   "execution_count": 59,
   "metadata": {},
   "outputs": [
    {
     "data": {
      "text/plain": [
       "[C 1 @ 279.408,\n",
       " C 1 @ 279.482,\n",
       " C 2 @ 280.146,\n",
       " C 3 @ 285.075,\n",
       " C 3 @ 285.149,\n",
       " K 1 @ 460.714,\n",
       " K 1 @ 460.716,\n",
       " K 2 @ 553.656,\n",
       " K 3 @ 280.146,\n",
       " N 1 @ 589.024,\n",
       " N 1 @ 589.116,\n",
       " N 2 @ 279.482,\n",
       " N 3 @ 334.762,\n",
       " N 4 @ 421.624,\n",
       " N 5 @ 443.506,\n",
       " N 5 @ 443.613,\n",
       " P 1 @ 334.762,\n",
       " P 1 @ 334.83,\n",
       " P 2 @ 553.656,\n",
       " P 3 @ 317.881,\n",
       " P 4 @ 407.871]"
      ]
     },
     "execution_count": 59,
     "metadata": {},
     "output_type": "execute_result"
    }
   ],
   "source": [
    "elements = [CalibrationColumn(colname) for colname in df.columns[:-1]]\n",
    "elements\n"
   ]
  },
  {
   "cell_type": "code",
   "execution_count": 72,
   "metadata": {},
   "outputs": [
    {
     "data": {
      "text/plain": [
       "<matplotlib.axes._subplots.AxesSubplot at 0x20774b173c8>"
      ]
     },
     "execution_count": 72,
     "metadata": {},
     "output_type": "execute_result"
    },
    {
     "data": {
      "image/png": "[encoded data removed]",
      "text/plain": [
       "<matplotlib.figure.Figure at 0x207748bb828>"
      ]
     },
     "metadata": {},
     "output_type": "display_data"
    }
   ],
   "source": [
    "sns.regplot(data=df, x=str(elements[7]), y='%N', color='r', marker='+')"
   ]
  },
  {
   "cell_type": "code",
   "execution_count": 44,
   "metadata": {},
   "outputs": [],
   "source": [
    "regplot.get_figure().savefig('fig.png')"
   ]
  },
  {
   "cell_type": "code",
   "execution_count": 73,
   "metadata": {},
   "outputs": [],
   "source": [
    "def plot_calibrations(elements, path):\n",
    "    for element in elements:\n",
    "        regplot = sns.regplot(data=df, x=str(element), y='%N', color='r', marker='+')\n",
    "        regplot.get_figure().savefig(os.path.join(path,'{}.png'.format(str(element))))\n",
    "        plt.clf()"
   ]
  },
  {
   "cell_type": "code",
   "execution_count": 74,
   "metadata": {},
   "outputs": [
    {
     "data": {
      "text/plain": [
       "<matplotlib.figure.Figure at 0x20774c80940>"
      ]
     },
     "metadata": {},
     "output_type": "display_data"
    }
   ],
   "source": [
    "plot_calibrations(elements, '../output/calibration_plots')"
   ]
  },
  {
   "cell_type": "code",
   "execution_count": null,
   "metadata": {
    "collapsed": true
   },
   "outputs": [],
   "source": []
  }
 ],
 "metadata": {
  "kernelspec": {
   "display_name": "Python 3",
   "language": "python",
   "name": "python3"
  },
  "language_info": {
   "codemirror_mode": {
    "name": "ipython",
    "version": 3
   },
   "file_extension": ".py",
   "mimetype": "text/x-python",
   "name": "python",
   "nbconvert_exporter": "python",
   "pygments_lexer": "ipython3",
   "version": "3.6.4"
  }
 },
 "nbformat": 4,
 "nbformat_minor": 2
}
